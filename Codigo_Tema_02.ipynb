{
  "nbformat": 4,
  "nbformat_minor": 0,
  "metadata": {
    "colab": {
      "name": "Codigo_Tema_02.ipynb",
      "provenance": [],
      "collapsed_sections": [],
      "toc_visible": true,
      "include_colab_link": true
    },
    "kernelspec": {
      "name": "python3",
      "display_name": "Python 3"
    }
  },
  "cells": [
    {
      "cell_type": "markdown",
      "metadata": {
        "id": "view-in-github",
        "colab_type": "text"
      },
      "source": [
        "<a href=\"https://colab.research.google.com/github/IsraelFlro/Repositorio_curso_phyton/blob/main/Codigo_Tema_02.ipynb\" target=\"_parent\"><img src=\"https://colab.research.google.com/assets/colab-badge.svg\" alt=\"Open In Colab\"/></a>"
      ]
    },
    {
      "cell_type": "markdown",
      "metadata": {
        "id": "55co2gYtZu1G"
      },
      "source": [
        "# Código Tema 02"
      ]
    },
    {
      "cell_type": "markdown",
      "metadata": {
        "id": "ebnWxHzdZ5xC"
      },
      "source": [
        "[![Open In Colab](https://colab.research.google.com/assets/colab-badge.svg)](https://colab.research.google.com/drive/1-KQVyLAXjBUxxC0OM87L8GrgJodjXAcA?usp=sharing)"
      ]
    },
    {
      "cell_type": "code",
      "metadata": {
        "colab": {
          "base_uri": "https://localhost:8080/"
        },
        "id": "BbkI6HAYKCBD",
        "outputId": "75e217bd-6423-4d79-9cb6-29c2e13a048f"
      },
      "source": [
        "# Creando una variable string\r\n",
        "Mensaje = \"Hola\"\r\n",
        "\r\n",
        "# Imprimiendo la variable\r\n",
        "print(Mensaje)\r\n",
        "\r\n",
        "print(\"\\t¿Como estas? \\n \\tEstoy bien\", Mensaje)\r\n",
        "# \\n es un salto de linea\r\n",
        "# \\t es un tabulador"
      ],
      "execution_count": null,
      "outputs": [
        {
          "output_type": "stream",
          "text": [
            "Hola\n",
            "\t¿Como estas? \n",
            " \tEstoy bien Hola\n"
          ],
          "name": "stdout"
        }
      ]
    },
    {
      "cell_type": "code",
      "metadata": {
        "colab": {
          "base_uri": "https://localhost:8080/"
        },
        "id": "2-sxbblI5EHw",
        "outputId": "3cbd5f5a-7918-4b95-ebd5-4caddf406e04"
      },
      "source": [
        "# Concatenacion de strings\r\n",
        "M_1 = \"Estoy\"\r\n",
        "M_2 = \" dando\"\r\n",
        "M_3 = \" una clase\"\r\n",
        "M_total = M_1 + M_2 + M_3\r\n",
        "\r\n",
        "print(M_total)\r\n",
        "print(M_1 + M_2 + M_3 + \" de Python\")\r\n",
        "\r\n",
        "# No hagan esto\r\n",
        "Numero_1 = \"1\"\r\n",
        "Numero_2 = \"2\"\r\n",
        "Numero_3 = Numero_1 + Numero_2\r\n",
        "print(Numero_3)"
      ],
      "execution_count": null,
      "outputs": [
        {
          "output_type": "stream",
          "text": [
            "Estoy dando una clase\n",
            "Estoy dando una clase de Python\n",
            "12\n"
          ],
          "name": "stdout"
        }
      ]
    },
    {
      "cell_type": "code",
      "metadata": {
        "colab": {
          "base_uri": "https://localhost:8080/"
        },
        "id": "VTKpb-LI6T9Q",
        "outputId": "cd656876-9647-463c-ee21-5432057dc8a6"
      },
      "source": [
        "print(\"¿Cual es tu nombre?\")\r\n",
        "\r\n",
        "# Solicitando al usuario un string\r\n",
        "Nombre = input()\r\n",
        "\r\n",
        "#print(Nombre)\r\n",
        "# Solicitando un string al usuario mediante un mensaje\r\n",
        "Apellido = input(\"¿Cual es tu apellido? \")\r\n",
        "\r\n",
        "print(\"Mi nombre es\", Nombre, Apellido)"
      ],
      "execution_count": null,
      "outputs": [
        {
          "output_type": "stream",
          "text": [
            "¿Cual es tu nombre?\n",
            "David\n",
            "¿Cual es tu apellido? Alba\n",
            "Mi nombre es David Alba\n"
          ],
          "name": "stdout"
        }
      ]
    },
    {
      "cell_type": "markdown",
      "metadata": {
        "id": "Jo_03yXKWMnV"
      },
      "source": [
        "#En esta sección puedes hacer tu tarea\r\n"
      ]
    },
    {
      "cell_type": "code",
      "metadata": {
        "id": "yDlAX9y2WZF-",
        "outputId": "b910852b-3650-4ec6-eaff-5ef9e23f158c",
        "colab": {
          "base_uri": "https://localhost:8080/"
        }
      },
      "source": [
        "#Primer codigo de prueba Clase 1 variable string\r\n",
        "Mensaje = \"Hola mundo\"\r\n",
        "print (Mensaje,\"\\n\\nprueba\")"
      ],
      "execution_count": 4,
      "outputs": [
        {
          "output_type": "stream",
          "text": [
            "Hola mundo \n",
            "\n",
            "prueba\n"
          ],
          "name": "stdout"
        }
      ]
    },
    {
      "cell_type": "code",
      "metadata": {
        "id": "MowGEjoNiGjh",
        "outputId": "14b51637-4a2e-45be-b5c1-311b77f5b810",
        "colab": {
          "base_uri": "https://localhost:8080/"
        }
      },
      "source": [
        "#concatenar variables\r\n",
        "V1 = \"esto\"\r\n",
        "V2 = \" es una\"\r\n",
        "V3 = \" prueba\"\r\n",
        "SumVariables = V1 + V2 + V3\r\n",
        "print (SumVariables, \"de la primer clase\")"
      ],
      "execution_count": 8,
      "outputs": [
        {
          "output_type": "stream",
          "text": [
            "esto es una prueba de la primer clase\n"
          ],
          "name": "stdout"
        }
      ]
    },
    {
      "cell_type": "code",
      "metadata": {
        "id": "madSuIFBjbS-",
        "outputId": "7995731d-3e71-421c-9427-2d0db66945b7",
        "colab": {
          "base_uri": "https://localhost:8080/"
        }
      },
      "source": [
        "#Ingreso de variables\r\n",
        "print(\"Cual es tu edad?\")\r\n",
        "Edad = input()\r\n",
        "#print (Edad)\r\n",
        "#solicitar input al usuario\r\n",
        "Nombre1 = input(\"Cual es tu primer nombre?\\n\")\r\n",
        "Nombre2 = input(\"Cual es tu segundo nombre?\\n\")\r\n",
        "Apellido1 = input(\"Cual es tu primer apellido?\\n\")\r\n",
        "Apellido2 = input(\"Cual es tu segundo apellido?\\n\")\r\n",
        "NombreCompleto = Nombre1 + Nombre2 + Apellido1 + Apellido2\r\n",
        "print (\"Tu edad es\",Edad,\"y tu nombre es\",NombreCompleto)"
      ],
      "execution_count": 17,
      "outputs": [
        {
          "output_type": "stream",
          "text": [
            "Cual es tu edad?\n",
            "4\n",
            "Cual es tu primer nombre?\n",
            "j\n",
            "Cual es tu segundo nombre?\n",
            "i\n",
            "Cual es tu primer apellido?\n",
            "f\n",
            "Cual es tu segundo apellido?\n",
            "r\n",
            "Tu edad es 4 y tu nombre es jifr\n"
          ],
          "name": "stdout"
        }
      ]
    }
  ]
}