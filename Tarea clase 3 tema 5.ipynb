{
  "nbformat": 4,
  "nbformat_minor": 0,
  "metadata": {
    "colab": {
      "name": "Copia de Codigo_Tema_05.ipynb",
      "provenance": [],
      "collapsed_sections": [],
      "include_colab_link": true
    },
    "kernelspec": {
      "name": "python3",
      "display_name": "Python 3"
    }
  },
  "cells": [
    {
      "cell_type": "markdown",
      "metadata": {
        "id": "view-in-github",
        "colab_type": "text"
      },
      "source": [
        "<a href=\"https://colab.research.google.com/github/IsraelFlro/Repositorio_curso_phyton/blob/main/Tarea%20clase%203%20tema%205.ipynb\" target=\"_parent\"><img src=\"https://colab.research.google.com/assets/colab-badge.svg\" alt=\"Open In Colab\"/></a>"
      ]
    },
    {
      "cell_type": "markdown",
      "metadata": {
        "id": "ZKbsKwEqaGi0"
      },
      "source": [
        "# Código tema 05"
      ]
    },
    {
      "cell_type": "markdown",
      "metadata": {
        "id": "rEa2a2-qHvqJ"
      },
      "source": [
        "__Si tienes problema al dar clic en el botón de \"_Open in Colab_\", te recomendamos dar clic derecho en este y luego seleccionar \"_Abrir en una pestaña nueva_\"__"
      ]
    },
    {
      "cell_type": "markdown",
      "metadata": {
        "id": "9hHt5yASHc0O"
      },
      "source": [
        "[![Open In Colab](https://colab.research.google.com/assets/colab-badge.svg)](https://colab.research.google.com/drive/17C1oMa2uWyrk7KknBNVNCKXyqTlCUxYR#scrollTo=9hHt5yASHc0O)"
      ]
    },
    {
      "cell_type": "markdown",
      "metadata": {
        "id": "vwM6o1yVaNMw"
      },
      "source": [
        "# Indices en listas"
      ]
    },
    {
      "cell_type": "code",
      "metadata": {
        "colab": {
          "base_uri": "https://localhost:8080/"
        },
        "id": "R7T9-ntGaKCo",
        "outputId": "2f7c9037-60e8-4c7a-af16-7a5183d896f9"
      },
      "source": [
        "A = [89, 2, 3, 4, 5]\r\n",
        "A"
      ],
      "execution_count": null,
      "outputs": [
        {
          "output_type": "execute_result",
          "data": {
            "text/plain": [
              "[89, 2, 3, 4, 5]"
            ]
          },
          "metadata": {
            "tags": []
          },
          "execution_count": 7
        }
      ]
    },
    {
      "cell_type": "code",
      "metadata": {
        "colab": {
          "base_uri": "https://localhost:8080/"
        },
        "id": "-EulVU9UasZD",
        "outputId": "c5d12cd2-4c76-4dcd-9580-57c1db7daae4"
      },
      "source": [
        "A[0] = 1\r\n",
        "A"
      ],
      "execution_count": null,
      "outputs": [
        {
          "output_type": "execute_result",
          "data": {
            "text/plain": [
              "[1, 2, 3, 4, 5]"
            ]
          },
          "metadata": {
            "tags": []
          },
          "execution_count": 8
        }
      ]
    },
    {
      "cell_type": "code",
      "metadata": {
        "colab": {
          "base_uri": "https://localhost:8080/"
        },
        "id": "Tkv69sgRaywo",
        "outputId": "758b9dde-c671-4689-e656-d9db835d735c"
      },
      "source": [
        "A[4] = 109\r\n",
        "A"
      ],
      "execution_count": null,
      "outputs": [
        {
          "output_type": "execute_result",
          "data": {
            "text/plain": [
              "[1, 2, 3, 4, 109]"
            ]
          },
          "metadata": {
            "tags": []
          },
          "execution_count": 9
        }
      ]
    },
    {
      "cell_type": "markdown",
      "metadata": {
        "id": "j8pQfHDga5b3"
      },
      "source": [
        "# Añadir elementos a listas"
      ]
    },
    {
      "cell_type": "code",
      "metadata": {
        "colab": {
          "base_uri": "https://localhost:8080/"
        },
        "id": "dcfTvtbsa4wx",
        "outputId": "feebbbc1-717b-4222-9308-231e1e3fd8f3"
      },
      "source": [
        "B = [1,2,3]\r\n",
        "B"
      ],
      "execution_count": null,
      "outputs": [
        {
          "output_type": "execute_result",
          "data": {
            "text/plain": [
              "[1, 2, 3]"
            ]
          },
          "metadata": {
            "tags": []
          },
          "execution_count": 13
        }
      ]
    },
    {
      "cell_type": "markdown",
      "metadata": {
        "id": "EHRFR72jbTyQ"
      },
      "source": [
        ""
      ]
    },
    {
      "cell_type": "code",
      "metadata": {
        "colab": {
          "base_uri": "https://localhost:8080/"
        },
        "id": "oF3KeE4ibEd8",
        "outputId": "f337605e-a3ed-4334-8cf1-387b1255a942"
      },
      "source": [
        "B.append(4)\r\n",
        "B"
      ],
      "execution_count": null,
      "outputs": [
        {
          "output_type": "execute_result",
          "data": {
            "text/plain": [
              "[1, 2, 3, 4]"
            ]
          },
          "metadata": {
            "tags": []
          },
          "execution_count": 14
        }
      ]
    },
    {
      "cell_type": "code",
      "metadata": {
        "colab": {
          "base_uri": "https://localhost:8080/"
        },
        "id": "Hzv0k7cCbLT-",
        "outputId": "79dd942b-7b3a-488d-b388-cbf2321ebf5c"
      },
      "source": [
        "C = []\r\n",
        "C"
      ],
      "execution_count": null,
      "outputs": [
        {
          "output_type": "execute_result",
          "data": {
            "text/plain": [
              "[]"
            ]
          },
          "metadata": {
            "tags": []
          },
          "execution_count": 26
        }
      ]
    },
    {
      "cell_type": "code",
      "metadata": {
        "colab": {
          "base_uri": "https://localhost:8080/"
        },
        "id": "u-Q6SFtZbXlU",
        "outputId": "44a303b3-260e-4c45-886b-336fdffa5168"
      },
      "source": [
        "C.append([1,2,3])\r\n",
        "C"
      ],
      "execution_count": null,
      "outputs": [
        {
          "output_type": "execute_result",
          "data": {
            "text/plain": [
              "[[1, 2, 3]]"
            ]
          },
          "metadata": {
            "tags": []
          },
          "execution_count": 27
        }
      ]
    },
    {
      "cell_type": "code",
      "metadata": {
        "colab": {
          "base_uri": "https://localhost:8080/"
        },
        "id": "W59VADFHbeA2",
        "outputId": "5cfdab14-dc21-43de-9075-2709cea1c3b1"
      },
      "source": [
        "C.append([4,5,6])\r\n",
        "C.append([7,8,9])\r\n",
        "C"
      ],
      "execution_count": null,
      "outputs": [
        {
          "output_type": "execute_result",
          "data": {
            "text/plain": [
              "[[1, 2, 3], [4, 5, 6], [7, 8, 9]]"
            ]
          },
          "metadata": {
            "tags": []
          },
          "execution_count": 28
        }
      ]
    },
    {
      "cell_type": "markdown",
      "metadata": {
        "id": "GzRDXlCUcvQy"
      },
      "source": [
        ""
      ]
    },
    {
      "cell_type": "markdown",
      "metadata": {
        "id": "xnzvrg_xb_hT"
      },
      "source": [
        "# Operaciones a listas"
      ]
    },
    {
      "cell_type": "code",
      "metadata": {
        "colab": {
          "base_uri": "https://localhost:8080/"
        },
        "id": "MI3EqyN9cCjo",
        "outputId": "ed55ed13-2771-4347-e3f8-a93c35886f25"
      },
      "source": [
        "print(C[2][2])"
      ],
      "execution_count": null,
      "outputs": [
        {
          "output_type": "stream",
          "text": [
            "9\n"
          ],
          "name": "stdout"
        }
      ]
    },
    {
      "cell_type": "code",
      "metadata": {
        "colab": {
          "base_uri": "https://localhost:8080/"
        },
        "id": "JMGxlO4AcmJh",
        "outputId": "1e129c03-0d4e-424a-ec5d-19508fa38019"
      },
      "source": [
        "D = [1,2,3,4,5,6,7,8,9,10]\r\n",
        "D"
      ],
      "execution_count": null,
      "outputs": [
        {
          "output_type": "execute_result",
          "data": {
            "text/plain": [
              "[1, 2, 3, 4, 5, 6, 7, 8, 9, 10]"
            ]
          },
          "metadata": {
            "tags": []
          },
          "execution_count": 33
        }
      ]
    },
    {
      "cell_type": "code",
      "metadata": {
        "colab": {
          "base_uri": "https://localhost:8080/"
        },
        "id": "B64fFwk4c3sQ",
        "outputId": "b5f8057b-feff-43ee-d883-435b63c1f63b"
      },
      "source": [
        "Suma = sum(D)\r\n",
        "Suma"
      ],
      "execution_count": null,
      "outputs": [
        {
          "output_type": "execute_result",
          "data": {
            "text/plain": [
              "55"
            ]
          },
          "metadata": {
            "tags": []
          },
          "execution_count": 34
        }
      ]
    },
    {
      "cell_type": "code",
      "metadata": {
        "colab": {
          "base_uri": "https://localhost:8080/"
        },
        "id": "PHLMJBPldOGA",
        "outputId": "fc754b08-f30d-4bb6-b112-9d0f12808734"
      },
      "source": [
        "Longitud = len(D)\r\n",
        "Longitud"
      ],
      "execution_count": null,
      "outputs": [
        {
          "output_type": "execute_result",
          "data": {
            "text/plain": [
              "10"
            ]
          },
          "metadata": {
            "tags": []
          },
          "execution_count": 35
        }
      ]
    },
    {
      "cell_type": "markdown",
      "metadata": {
        "id": "2W8-lX0md1ID"
      },
      "source": [
        "# Promedio de un arreglo"
      ]
    },
    {
      "cell_type": "code",
      "metadata": {
        "colab": {
          "base_uri": "https://localhost:8080/"
        },
        "id": "2IXC8AsodZuQ",
        "outputId": "8b2f1e02-a9cf-4fa3-e2ba-2dde5b51876a"
      },
      "source": [
        "#Primera forma\r\n",
        "Promedio = sum(D)/len(D)\r\n",
        "Promedio"
      ],
      "execution_count": null,
      "outputs": [
        {
          "output_type": "execute_result",
          "data": {
            "text/plain": [
              "5.5"
            ]
          },
          "metadata": {
            "tags": []
          },
          "execution_count": 36
        }
      ]
    },
    {
      "cell_type": "code",
      "metadata": {
        "colab": {
          "base_uri": "https://localhost:8080/"
        },
        "id": "hArT4sopdg5P",
        "outputId": "922c2c89-e98a-47d2-ab31-ae1dd8fe8f7b"
      },
      "source": [
        "#Segunda forma\r\n",
        "import statistics\r\n",
        "Promedio_2 = statistics.mean(D)\r\n",
        "Promedio_2"
      ],
      "execution_count": null,
      "outputs": [
        {
          "output_type": "execute_result",
          "data": {
            "text/plain": [
              "5.5"
            ]
          },
          "metadata": {
            "tags": []
          },
          "execution_count": 38
        }
      ]
    },
    {
      "cell_type": "markdown",
      "metadata": {
        "id": "29JgTERmeDzb"
      },
      "source": [
        "# Listas con strings"
      ]
    },
    {
      "cell_type": "code",
      "metadata": {
        "colab": {
          "base_uri": "https://localhost:8080/"
        },
        "id": "mqag-_Yhd-31",
        "outputId": "3f9fbd50-50d2-476d-9ac3-1105ca0a860e"
      },
      "source": [
        "Strings = ['abc', 'def', 'ghi', 'jkl']\r\n",
        "print(Strings[3][2])"
      ],
      "execution_count": null,
      "outputs": [
        {
          "output_type": "stream",
          "text": [
            "l\n"
          ],
          "name": "stdout"
        }
      ]
    },
    {
      "cell_type": "code",
      "metadata": {
        "colab": {
          "base_uri": "https://localhost:8080/"
        },
        "id": "3CUBlRWRecKs",
        "outputId": "3db41689-404d-441a-80d6-4b96ff15622a"
      },
      "source": [
        "Longitud = len(Strings)\r\n",
        "Longitud"
      ],
      "execution_count": null,
      "outputs": [
        {
          "output_type": "execute_result",
          "data": {
            "text/plain": [
              "4"
            ]
          },
          "metadata": {
            "tags": []
          },
          "execution_count": 43
        }
      ]
    },
    {
      "cell_type": "code",
      "metadata": {
        "colab": {
          "base_uri": "https://localhost:8080/"
        },
        "id": "mV3MpnOlej1N",
        "outputId": "1fae32fb-f24a-404a-c42c-156377ce9ac5"
      },
      "source": [
        "print(Strings[2][0:2])"
      ],
      "execution_count": null,
      "outputs": [
        {
          "output_type": "stream",
          "text": [
            "gh\n"
          ],
          "name": "stdout"
        }
      ]
    },
    {
      "cell_type": "markdown",
      "metadata": {
        "id": "RgRY2_dufE8T"
      },
      "source": [
        "# Diccionarios"
      ]
    },
    {
      "cell_type": "code",
      "metadata": {
        "id": "6OhS8rFufHsT"
      },
      "source": [
        "Datos_alumno = {\r\n",
        "    'Nombre' : 'Octavio',\r\n",
        "    'Apellido': 'Paz',\r\n",
        "    'Matricula' : '123456',\r\n",
        "    'Horario' : 'Matutino',\r\n",
        "    'Beca' : 'Si'\r\n",
        "}"
      ],
      "execution_count": null,
      "outputs": []
    },
    {
      "cell_type": "code",
      "metadata": {
        "colab": {
          "base_uri": "https://localhost:8080/"
        },
        "id": "AWpBPX2afWTe",
        "outputId": "1661c495-ea35-41ff-a038-a874129fcfbf"
      },
      "source": [
        "print(Datos_alumno['Matricula'])\r\n",
        "print(Datos_alumno['Apellido'])\r\n",
        "print(Datos_alumno['Beca'])"
      ],
      "execution_count": null,
      "outputs": [
        {
          "output_type": "stream",
          "text": [
            "123456\n",
            "Paz\n",
            "Si\n"
          ],
          "name": "stdout"
        }
      ]
    },
    {
      "cell_type": "code",
      "metadata": {
        "id": "6lA5OPQCfwD5"
      },
      "source": [
        "Datos_alumno.update({'Materias':['Fisica', 'Quimica', 'Programacion']})"
      ],
      "execution_count": null,
      "outputs": []
    },
    {
      "cell_type": "code",
      "metadata": {
        "colab": {
          "base_uri": "https://localhost:8080/"
        },
        "id": "BtBgOxrdgA_o",
        "outputId": "bf4a2750-4a37-4d28-8667-876d9178421f"
      },
      "source": [
        "Datos_alumno"
      ],
      "execution_count": null,
      "outputs": [
        {
          "output_type": "execute_result",
          "data": {
            "text/plain": [
              "{'Apellido': 'Paz',\n",
              " 'Beca': 'Si',\n",
              " 'Horario': 'Matutino',\n",
              " 'Materias': ['Fisica', 'Quimica', 'Programacion'],\n",
              " 'Matricula': '123456',\n",
              " 'Nombre': 'Octavio'}"
            ]
          },
          "metadata": {
            "tags": []
          },
          "execution_count": 52
        }
      ]
    },
    {
      "cell_type": "code",
      "metadata": {
        "colab": {
          "base_uri": "https://localhost:8080/"
        },
        "id": "Me6tuXxEgH1f",
        "outputId": "829b2cc5-118d-4461-f30e-3ed9702bbc7b"
      },
      "source": [
        "print(Datos_alumno['Materias'])\r\n",
        "print(Datos_alumno['Materias'][0:2])"
      ],
      "execution_count": null,
      "outputs": [
        {
          "output_type": "stream",
          "text": [
            "['Fisica', 'Quimica', 'Programacion']\n",
            "['Fisica', 'Quimica']\n"
          ],
          "name": "stdout"
        }
      ]
    },
    {
      "cell_type": "markdown",
      "metadata": {
        "id": "4gzNtUevgZKg"
      },
      "source": [
        "# Diccionarios anidados"
      ]
    },
    {
      "cell_type": "code",
      "metadata": {
        "id": "srYGZDUsgb7o"
      },
      "source": [
        "Pacientes = [\r\n",
        "    {\r\n",
        "     'Nombre':'Juan',\r\n",
        "     'Seguro':'Si',\r\n",
        "     'ID_seguro':'987654321',\r\n",
        "     'Covid':'Si',\r\n",
        "     'G_sanguineo':'AB+'\r\n",
        "    },\r\n",
        "\r\n",
        "    {\r\n",
        "     'Nombre':'Maria',\r\n",
        "     'Seguro':'Si',\r\n",
        "     'ID_seguro':'123456789',\r\n",
        "     'Covid':'No',\r\n",
        "     'G_sanguineo':'A+'\r\n",
        "    },\r\n",
        "\r\n",
        "    {\r\n",
        "     'Nombre':'Ernesto',\r\n",
        "     'Seguro':'No',\r\n",
        "     'ID_seguro':'N/A',\r\n",
        "     'Covid':'No',\r\n",
        "     'G_sanguineo':'B+',\r\n",
        "    }\r\n",
        "]"
      ],
      "execution_count": null,
      "outputs": []
    },
    {
      "cell_type": "code",
      "metadata": {
        "colab": {
          "base_uri": "https://localhost:8080/"
        },
        "id": "CRs9Ti1jgsBG",
        "outputId": "3c9b8b5b-7491-4d45-9898-d29543700246"
      },
      "source": [
        "print(Pacientes[1]['Nombre'])\r\n",
        "print(Pacientes[1]['Seguro'])\r\n",
        "print(Pacientes[1]['ID_seguro'])"
      ],
      "execution_count": null,
      "outputs": [
        {
          "output_type": "stream",
          "text": [
            "Maria\n",
            "Si\n",
            "123456789\n"
          ],
          "name": "stdout"
        }
      ]
    },
    {
      "cell_type": "code",
      "metadata": {
        "colab": {
          "base_uri": "https://localhost:8080/"
        },
        "id": "8omZBDDghVvb",
        "outputId": "831d67a6-fff3-4ba8-f2d0-369fa56c4513"
      },
      "source": [
        "print(Pacientes[2]['Seguro'])\r\n",
        "print(Pacientes[2]['Covid'])\r\n",
        "print(Pacientes[2]['G_sanguineo'])"
      ],
      "execution_count": null,
      "outputs": [
        {
          "output_type": "stream",
          "text": [
            "No\n",
            "No\n",
            "B+\n"
          ],
          "name": "stdout"
        }
      ]
    },
    {
      "cell_type": "code",
      "metadata": {
        "colab": {
          "base_uri": "https://localhost:8080/"
        },
        "id": "w-seZkp4hind",
        "outputId": "0a857129-e63b-451f-d6ce-ec6ae3abb67e"
      },
      "source": [
        "print(Pacientes[0]['G_sanguineo'])"
      ],
      "execution_count": null,
      "outputs": [
        {
          "output_type": "stream",
          "text": [
            "AB+\n"
          ],
          "name": "stdout"
        }
      ]
    },
    {
      "cell_type": "markdown",
      "metadata": {
        "id": "32s4zDYOiAZA"
      },
      "source": [
        "# Tarea\r\n",
        "* Anidar diccionarios (mínimo 2).\r\n",
        "* Que el programa solicite que teclees el valor de las variables, (usar el método de _input()_)\r\n",
        "* Si ingresas enteros o flotantes, que los convierta a su tipo correspondiente (usar entonces _int()_ o _float()_)\r\n",
        "* Luego estas se agreguen al diccionario con el método _update()_\r\n",
        "\r\n",
        "Si tienes alguna duda o comentario, no dudes en dejarlo en el _Issue_ asociado a la __Clase 03__.\r\n",
        "\r\n",
        "Recuerda revisar las clases anteriores si las dudas persisten. ¡Mucha suerte!\r\n",
        "\r\n",
        "\r\n",
        "_(En el caso de que surgieran muchas dudas, se colocará un ejemplo de cómo se debío haber resulto esta tarea.)_"
      ]
    },
    {
      "cell_type": "code",
      "metadata": {
        "id": "gqAFxcKnitR1",
        "colab": {
          "base_uri": "https://localhost:8080/"
        },
        "outputId": "d0c7da14-56b8-4ab5-c313-664aba54ab78"
      },
      "source": [
        "#Indices en listas (mutables)\r\n",
        "L=[5,7,2,6,4]\r\n",
        "print (L)\r\n",
        "#se puede imprimir solo una pocision comenzando de 0\r\n",
        "print (L[0])\r\n",
        "#modificar una posicion de la lista\r\n",
        "L[4]=100\r\n",
        "print (L)"
      ],
      "execution_count": null,
      "outputs": [
        {
          "output_type": "stream",
          "text": [
            "[5, 7, 2, 6, 4]\n",
            "5\n",
            "[5, 7, 2, 6, 100]\n"
          ],
          "name": "stdout"
        }
      ]
    },
    {
      "cell_type": "markdown",
      "metadata": {
        "id": "LDEYrCcaxBhY"
      },
      "source": [
        "#Añadir elementos a listas\r\n"
      ]
    },
    {
      "cell_type": "code",
      "metadata": {
        "id": "RbPivCt1xE9n",
        "colab": {
          "base_uri": "https://localhost:8080/"
        },
        "outputId": "ca936d1c-d6cb-45df-bfe2-2a3dc80ebe23"
      },
      "source": [
        " A = [100,200,300]\r\n",
        " print (A)\r\n",
        " #agregar un nuevo elemento a la ulta posicion\r\n",
        " A.append(400)\r\n",
        " print (A)\r\n",
        " #se pueden agregar mas de un elemento es decir un vector\r\n",
        " B=[]\r\n",
        " B.append ([1,2,3])\r\n",
        " print (B)\r\n",
        " B.append ([4,5,6])\r\n",
        " print (B)\r\n",
        " B.append([7,8,9])\r\n",
        " print (B)"
      ],
      "execution_count": null,
      "outputs": [
        {
          "output_type": "stream",
          "text": [
            "[100, 200, 300]\n",
            "[100, 200, 300, 400]\n",
            "[[1, 2, 3]]\n",
            "[[1, 2, 3], [4, 5, 6]]\n",
            "[[1, 2, 3], [4, 5, 6], [7, 8, 9]]\n",
            "[1, 2, 3]\n"
          ],
          "name": "stdout"
        }
      ]
    },
    {
      "cell_type": "markdown",
      "metadata": {
        "id": "JDDPoQ5_yYNa"
      },
      "source": [
        "#Operaciones a listas"
      ]
    },
    {
      "cell_type": "code",
      "metadata": {
        "id": "TBLkd4kjybbk",
        "colab": {
          "base_uri": "https://localhost:8080/"
        },
        "outputId": "67a576fb-6424-4552-818f-04794c8dd65b"
      },
      "source": [
        "#seleccionar un sector de la matriz (posicion de posicion)\r\n",
        "print (B[2][0])"
      ],
      "execution_count": null,
      "outputs": [
        {
          "output_type": "stream",
          "text": [
            "7\n"
          ],
          "name": "stdout"
        }
      ]
    },
    {
      "cell_type": "code",
      "metadata": {
        "id": "cvPw5HXY0cZE",
        "colab": {
          "base_uri": "https://localhost:8080/"
        },
        "outputId": "8a088408-d726-483a-c1c7-702051166efb"
      },
      "source": [
        "V=[1,2,3,4,5,6,7,8,9,10]\r\n",
        "print(V)\r\n",
        "#sumar los valores del vector con la operacion sum\r\n",
        "suma=sum(V)\r\n",
        "print(suma)\r\n",
        "#para ver las posiciones del vctor:\r\n",
        "longitud=len(V)\r\n",
        "print(longitud)\r\n",
        "#calcular el promedio metodo 1\r\n",
        "promedio=sum(V)/len(V)\r\n",
        "print(promedio)\r\n",
        "#calcular el promedio metodo 2 con un modulo\r\n",
        "import statistics as st \r\n",
        "promedio2 = st.mean(V)\r\n",
        "print (promedio2)"
      ],
      "execution_count": null,
      "outputs": [
        {
          "output_type": "stream",
          "text": [
            "[1, 2, 3, 4, 5, 6, 7, 8, 9, 10]\n",
            "55\n",
            "10\n",
            "5.5\n",
            "5.5\n"
          ],
          "name": "stdout"
        }
      ]
    },
    {
      "cell_type": "markdown",
      "metadata": {
        "id": "CeEXF0Ci1-SX"
      },
      "source": [
        "#Listas con strings"
      ]
    },
    {
      "cell_type": "code",
      "metadata": {
        "id": "7WLXb_n32BA1",
        "colab": {
          "base_uri": "https://localhost:8080/"
        },
        "outputId": "2c438412-8ac0-4d0f-a67d-9e6fc8780a1a"
      },
      "source": [
        "strings= ['uno','dos','tres','cuatro']\r\n",
        "#para seleccionar una posicion funciona igual\r\n",
        "print (strings[3])\r\n",
        "longitud=len(strings)\r\n",
        "print(longitud)\r\n",
        "#imprimir varias posiciones\r\n",
        "print(strings[0:3])"
      ],
      "execution_count": null,
      "outputs": [
        {
          "output_type": "stream",
          "text": [
            "cuatro\n",
            "4\n",
            "['uno', 'dos', 'tres']\n"
          ],
          "name": "stdout"
        }
      ]
    },
    {
      "cell_type": "markdown",
      "metadata": {
        "id": "NW9kNRVS29IB"
      },
      "source": [
        "Diccionarios"
      ]
    },
    {
      "cell_type": "code",
      "metadata": {
        "id": "4xOh7kOe2-xh",
        "colab": {
          "base_uri": "https://localhost:8080/"
        },
        "outputId": "827640df-d6b7-4e01-b727-b340d90b2bcf"
      },
      "source": [
        "Datos = {\r\n",
        "    'Nombre':'Juan',\r\n",
        "    'Apellido':'Flores',\r\n",
        "    'Matricula':'1611014',\r\n",
        "    'Horario':'matutino',\r\n",
        "    'beca':'si'\r\n",
        "}\r\n",
        "print(Datos['Matricula'])\r\n",
        "print(Datos['beca'])\r\n",
        "#agregando componentes al diccionario\r\n",
        "Datos.update({'Materias':['Calculo','Programacion','Quimica']})\r\n",
        "print(Datos)\r\n",
        "print(Datos['Materias'][0:2])"
      ],
      "execution_count": null,
      "outputs": [
        {
          "output_type": "stream",
          "text": [
            "1611014\n",
            "si\n",
            "{'Nombre': 'Juan', 'Apellido': 'Flores', 'Matricula': '1611014', 'Horario': 'matutino', 'beca': 'si', 'Materias': ['Calculo', 'Programacion', 'Quimica']}\n",
            "['Calculo', 'Programacion']\n"
          ],
          "name": "stdout"
        }
      ]
    },
    {
      "cell_type": "code",
      "metadata": {
        "id": "KmT94ydX6iEk",
        "colab": {
          "base_uri": "https://localhost:8080/"
        },
        "outputId": "015cf5d1-1e9d-4e96-8486-cb63a6df8b90"
      },
      "source": [
        "Info=[{\r\n",
        "    'Nombre':'Juan',\r\n",
        "    'Apellido':'Flores',\r\n",
        "    'Matricula':'1611014',\r\n",
        "    'Horario':'matutino',\r\n",
        "    'beca':'no'\r\n",
        "},\r\n",
        "{\r\n",
        "    'Nombre':'Ali',\r\n",
        "    'Apellido':'Salvador',\r\n",
        "    'Matricula':'1611586',\r\n",
        "    'Horario':'vespertino',\r\n",
        "    'beca':'si'\r\n",
        "},\r\n",
        "{\r\n",
        "    'Nombre':'Leonardo',\r\n",
        "    'Apellido':'Garcia',\r\n",
        "    'Matricula':'1111674',\r\n",
        "    'Horario':'matutino',\r\n",
        "    'beca':'si'\r\n",
        "}]\r\n",
        "\r\n",
        "print(Info[0]['Nombre'])\r\n",
        "print('Beca:',Info[0]['beca'])\r\n",
        "print(Info[1]['Nombre'])\r\n",
        "print('Beca:',Info[1]['beca'])\r\n",
        "print(Info[2]['Nombre'])\r\n",
        "print('Beca:',Info[2]['beca'])"
      ],
      "execution_count": null,
      "outputs": [
        {
          "output_type": "stream",
          "text": [
            "Juan\n",
            "Beca: no\n",
            "Ali\n",
            "Beca: si\n",
            "Leonardo\n",
            "Beca: si\n"
          ],
          "name": "stdout"
        }
      ]
    },
    {
      "cell_type": "markdown",
      "metadata": {
        "id": "7d-TkdKA8FgB"
      },
      "source": [
        "#Tarea"
      ]
    },
    {
      "cell_type": "code",
      "metadata": {
        "id": "JSq6YotX8HH2",
        "colab": {
          "base_uri": "https://localhost:8080/"
        },
        "outputId": "d4884f72-ec67-415b-aaa1-31db8dcefa1f"
      },
      "source": [
        "P1=input('Placa 1:')\r\n",
        "M1=input('Modelo 1:')\r\n",
        "A1=input('Año 1:')\r\n",
        "print('')\r\n",
        "P2=input('Placa 2:')\r\n",
        "M2=input('Modelo 2:')\r\n",
        "A2=input('Año 2:')\r\n",
        "print('')\r\n",
        "P3=input('Placa 3:')\r\n",
        "M3=input('Modelo 3:')\r\n",
        "A3=input('Año 3:')\r\n",
        "print('')\r\n",
        "Autos=[{\r\n",
        "    'Placas': P1,\r\n",
        "    'Modelo': M1,\r\n",
        "    'Año': A1,\r\n",
        "},\r\n",
        "{   'Placas': P2,\r\n",
        "    'Modelo': M2,\r\n",
        "    'Año': A2,\r\n",
        "},\r\n",
        "{   'Placas': P3,\r\n",
        "    'Modelo': M3,\r\n",
        "    'Año': A3,\r\n",
        " },\r\n",
        "]\r\n",
        "print (Autos)\r\n",
        "\r\n",
        "C1=input('Color de auto 1:')\r\n",
        "C2=input('Color de auto 2:')\r\n",
        "C3=input('Color de auto 3:')\r\n",
        "\r\n",
        "Autos[0].update({'Color':C1})\r\n",
        "Autos[1].update({'Color':C2})\r\n",
        "Autos[2].update({'Color':C3})\r\n",
        "\r\n",
        "print (Autos)"
      ],
      "execution_count": null,
      "outputs": [
        {
          "output_type": "stream",
          "text": [
            "Placa 1:g56\n",
            "Modelo 1:BMW\n",
            "Año 1:2009\n",
            "\n",
            "Placa 2:H64\n",
            "Modelo 2:VW\n",
            "Año 2:2020\n",
            "\n",
            "Placa 3:D45\n",
            "Modelo 3:AUDI\n",
            "Año 3:2015\n",
            "\n",
            "[{'Placas': 'g56', 'Modelo': 'BMW', 'Año': '2009'}, {'Placas': 'H64', 'Modelo': 'VW', 'Año': '2020'}, {'Placas': 'D45', 'Modelo': 'AUDI', 'Año': '2015'}]\n",
            "Color de auto 1:ROJO\n",
            "Color de auto 2:AZUL\n",
            "Color de auto 3:NEGRO\n",
            "[{'Placas': 'g56', 'Modelo': 'BMW', 'Año': '2009', 'Color': 'ROJO'}, {'Placas': 'H64', 'Modelo': 'VW', 'Año': '2020', 'Color': 'AZUL'}, {'Placas': 'D45', 'Modelo': 'AUDI', 'Año': '2015', 'Color': 'NEGRO'}]\n"
          ],
          "name": "stdout"
        }
      ]
    },
    {
      "cell_type": "code",
      "metadata": {
        "id": "z4J5neo2GbEH",
        "colab": {
          "base_uri": "https://localhost:8080/"
        },
        "outputId": "cd6c4bf3-d0a8-4d77-fcf5-8487fae0f858"
      },
      "source": [
        "#imprimiendo un elemento:\r\n",
        "print(Autos[0])"
      ],
      "execution_count": null,
      "outputs": [
        {
          "output_type": "stream",
          "text": [
            "{'Placas': 'h01', 'Modelo': 'FORD', 'Año': '2009'}\n"
          ],
          "name": "stdout"
        }
      ]
    },
    {
      "cell_type": "code",
      "metadata": {
        "id": "HCJE27-uA0NF",
        "outputId": "5a701b69-ee62-4a30-cbfe-992c7e5d84c3",
        "colab": {
          "base_uri": "https://localhost:8080/",
          "height": 299
        }
      },
      "source": [
        "#Agregar un auto al diccionario\r\n",
        "AutoNuevo = {\r\n",
        "                  'Placa 4:':input('Ingresa la placa'), \r\n",
        "                  'Modelo 4:':input('Ingresa el modelo '), \r\n",
        "                  'Año':float(input('Ingresa el año')),\r\n",
        "                  'Color':input('Ingresa el color'),  \r\n",
        "            }\r\n",
        "Autos.append(AutoNuevo)\r\n",
        "\r\n",
        "print (Autos)"
      ],
      "execution_count": 2,
      "outputs": [
        {
          "output_type": "stream",
          "text": [
            "Ingresa la placa1\n",
            "Ingresa el modelo 2\n",
            "Ingresa el año3\n",
            "Ingresa el color4\n"
          ],
          "name": "stdout"
        },
        {
          "output_type": "error",
          "ename": "NameError",
          "evalue": "ignored",
          "traceback": [
            "\u001b[0;31m---------------------------------------------------------------------------\u001b[0m",
            "\u001b[0;31mNameError\u001b[0m                                 Traceback (most recent call last)",
            "\u001b[0;32m<ipython-input-2-19d8f0113c17>\u001b[0m in \u001b[0;36m<module>\u001b[0;34m()\u001b[0m\n\u001b[1;32m      6\u001b[0m                   \u001b[0;34m'Color'\u001b[0m\u001b[0;34m:\u001b[0m\u001b[0minput\u001b[0m\u001b[0;34m(\u001b[0m\u001b[0;34m'Ingresa el color'\u001b[0m\u001b[0;34m)\u001b[0m\u001b[0;34m,\u001b[0m\u001b[0;34m\u001b[0m\u001b[0;34m\u001b[0m\u001b[0m\n\u001b[1;32m      7\u001b[0m             }\n\u001b[0;32m----> 8\u001b[0;31m \u001b[0mAutos\u001b[0m\u001b[0;34m.\u001b[0m\u001b[0mappend\u001b[0m\u001b[0;34m(\u001b[0m\u001b[0mAutoNuevo\u001b[0m\u001b[0;34m)\u001b[0m\u001b[0;34m\u001b[0m\u001b[0;34m\u001b[0m\u001b[0m\n\u001b[0m\u001b[1;32m      9\u001b[0m \u001b[0;34m\u001b[0m\u001b[0m\n\u001b[1;32m     10\u001b[0m \u001b[0mprint\u001b[0m \u001b[0;34m(\u001b[0m\u001b[0mAutos\u001b[0m\u001b[0;34m)\u001b[0m\u001b[0;34m\u001b[0m\u001b[0;34m\u001b[0m\u001b[0m\n",
            "\u001b[0;31mNameError\u001b[0m: name 'Autos' is not defined"
          ]
        }
      ]
    }
  ]
}