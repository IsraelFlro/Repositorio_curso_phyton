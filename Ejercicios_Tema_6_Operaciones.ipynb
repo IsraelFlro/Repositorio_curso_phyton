{
  "nbformat": 4,
  "nbformat_minor": 0,
  "metadata": {
    "colab": {
      "name": "Codigo_Tema_6.ipynb",
      "provenance": [],
      "collapsed_sections": [],
      "toc_visible": true,
      "include_colab_link": true
    },
    "kernelspec": {
      "name": "python3",
      "display_name": "Python 3"
    }
  },
  "cells": [
    {
      "cell_type": "markdown",
      "metadata": {
        "id": "view-in-github",
        "colab_type": "text"
      },
      "source": [
        "<a href=\"https://colab.research.google.com/github/IsraelFlro/Repositorio_curso_phyton/blob/main/Ejercicios_Tema_6_Operaciones.ipynb\" target=\"_parent\"><img src=\"https://colab.research.google.com/assets/colab-badge.svg\" alt=\"Open In Colab\"/></a>"
      ]
    },
    {
      "cell_type": "markdown",
      "metadata": {
        "id": "CoMK0P5FQKnI"
      },
      "source": [
        "# Código Tema 6\r\n",
        "###### Si tienes problema al dar clic en el botón de -Open In Colab-, te recomendamos dar clic derecho en este y luego seleccionar -Abrir en una pestaña nueva-"
      ]
    },
    {
      "cell_type": "markdown",
      "metadata": {
        "id": "54OUPeltQPvo"
      },
      "source": [
        "[![Open In Colab](https://colab.research.google.com/assets/colab-badge.svg)](https://colab.research.google.com/drive/14gHpkF9Glq5cWrHlAT6G-5Ar6ENvtzps?usp=sharing)"
      ]
    },
    {
      "cell_type": "code",
      "metadata": {
        "colab": {
          "base_uri": "https://localhost:8080/"
        },
        "id": "sZNgwLCPWCA_",
        "outputId": "0de3c618-b339-4075-f02c-d7c744953623"
      },
      "source": [
        "# Operadores de asignacion\r\n",
        "\r\n",
        "A = 5\r\n",
        "\r\n",
        "# Suma en asignacion\r\n",
        "\r\n",
        "A += 3 # Equivale a A = A + 3\r\n",
        "\r\n",
        "# Resta en asignacion\r\n",
        "\r\n",
        "A -= 2 # Equivale a A = A - 2\r\n",
        "\r\n",
        "# Multiplicacion en asignacion\r\n",
        "\r\n",
        "A *= 2 # Equivale a A = A * 2\r\n",
        "\r\n",
        "# Division en asignacion \r\n",
        "\r\n",
        "A /= 4 # Equivale a A = A / 4\r\n",
        "\r\n",
        "# Potencia en asignacion\r\n",
        "\r\n",
        "A **= 3 # Equivale a A = A ** 3\r\n",
        "\r\n",
        "print(A)"
      ],
      "execution_count": null,
      "outputs": [
        {
          "output_type": "stream",
          "text": [
            "27.0\n"
          ],
          "name": "stdout"
        }
      ]
    },
    {
      "cell_type": "code",
      "metadata": {
        "colab": {
          "base_uri": "https://localhost:8080/"
        },
        "id": "5-f-0OGgzvc_",
        "outputId": "df2a4c8e-c058-4d57-ec83-be5b6a67b706"
      },
      "source": [
        "# Operador modulo\r\n",
        "\r\n",
        "# Su operador es %\r\n",
        "# Es una division pero en vez de darte el cociente\r\n",
        "# te da el residuo\r\n",
        "\r\n",
        "B = 10 % 4\r\n",
        "print(B)\r\n",
        "\r\n",
        "# Modulo en asignacion\r\n",
        "\r\n",
        "A = 20\r\n",
        "\r\n",
        "A %= 4 # Equivale a A = A % 4\r\n",
        "\r\n",
        "print(A)"
      ],
      "execution_count": null,
      "outputs": [
        {
          "output_type": "stream",
          "text": [
            "2\n",
            "0\n"
          ],
          "name": "stdout"
        }
      ]
    },
    {
      "cell_type": "code",
      "metadata": {
        "colab": {
          "base_uri": "https://localhost:8080/"
        },
        "id": "EwGRgqvE0qfA",
        "outputId": "42941b66-1993-4828-e008-f4493101a48d"
      },
      "source": [
        "# Operadores de comparacion\r\n",
        "\r\n",
        "'''\r\n",
        "and, or, not, >, <, ==, >=, <=, !=\r\n",
        "\r\n",
        "1. ()\r\n",
        "2. **\r\n",
        "3. *, /, %, not\r\n",
        "4. +, -, and\r\n",
        "5. >, <, ==, >=, <=, !=, or\r\n",
        "\r\n",
        "\r\n",
        "and: si ambas expresiones tienen el valor True (cierto) da como resultado True\r\n",
        "or: con que mínimo una expresion tenga el valor True (cierto) da como resultado True\r\n",
        "not: cambia el valor de True (cierto) a False (falso) y viceversa \r\n",
        "'''\r\n",
        "\r\n",
        "A = 1\r\n",
        "B = 2\r\n",
        "C = 3\r\n",
        "\r\n",
        "D = not((A > C) or (C < B))\r\n",
        "print(D)\r\n",
        "\r\n",
        "# operador \"diferente\" !=\r\n",
        "\r\n",
        "E = A != 2 # Como A es diferente de dos el operador \"Diferente\" da como resultado el valor de True\r\n",
        "print(E)\r\n",
        "\r\n",
        "# Operador \"igualdad\" ==\r\n",
        "\r\n",
        "F = A == 1 # Como A es igual que uno el operador \"igualdad\" da como resultado el valor de True\r\n",
        "print(F)\r\n"
      ],
      "execution_count": null,
      "outputs": [
        {
          "output_type": "stream",
          "text": [
            "True\n",
            "True\n",
            "True\n"
          ],
          "name": "stdout"
        }
      ]
    },
    {
      "cell_type": "markdown",
      "metadata": {
        "id": "2sSgPQ5HpcU5"
      },
      "source": [
        "#Tarea\r\n"
      ]
    },
    {
      "cell_type": "code",
      "metadata": {
        "id": "a1YyEXd9peCS",
        "outputId": "789c1352-e3a2-454d-b3be-b17b95e73435",
        "colab": {
          "base_uri": "https://localhost:8080/"
        }
      },
      "source": [
        "#Operaciones\r\n",
        "\r\n",
        "a =10\r\n",
        "#forma convencional\r\n",
        "#a= a+3\r\n",
        "#suma en asignacion\r\n",
        "a+=3\r\n",
        "print (a)\r\n",
        "#resta en asignacion\r\n",
        "a-=9\r\n",
        "print (a)\r\n",
        "#multiplicacion en asignacion\r\n",
        "a*=3\r\n",
        "print (a)\r\n",
        "#division en asignacion (con divisiones se convierte numero flotante)\r\n",
        "a/=2\r\n",
        "print (a)\r\n",
        "#potencia en asignacion\r\n",
        "a**=2\r\n",
        "print (a)"
      ],
      "execution_count": 8,
      "outputs": [
        {
          "output_type": "stream",
          "text": [
            "13\n",
            "4\n",
            "12\n",
            "6.0\n",
            "36.0\n"
          ],
          "name": "stdout"
        }
      ]
    },
    {
      "cell_type": "code",
      "metadata": {
        "id": "oSZxgxavq7LG",
        "outputId": "18c34451-7f7b-4729-d28a-e8ca53db2a06",
        "colab": {
          "base_uri": "https://localhost:8080/"
        }
      },
      "source": [
        "#Operador modulo\r\n",
        "\r\n",
        "#da el residuo de una division\r\n",
        "\r\n",
        "b=10%2\r\n",
        "print (b)\r\n",
        "\r\n",
        "#modulo en asignacion\r\n",
        "\r\n",
        "c=20\r\n",
        "c%=3\r\n",
        "print (c)"
      ],
      "execution_count": 14,
      "outputs": [
        {
          "output_type": "stream",
          "text": [
            "0\n",
            "2\n"
          ],
          "name": "stdout"
        }
      ]
    },
    {
      "cell_type": "code",
      "metadata": {
        "id": "8m6Y3Uxjsf4M",
        "outputId": "687cbe03-09d0-4a42-d124-5f26f0a2a57e",
        "colab": {
          "base_uri": "https://localhost:8080/"
        }
      },
      "source": [
        "#Operadores de comparcion\r\n",
        "\r\n",
        "'''\r\n",
        "El resultado de comparar arroja TRUE o FALSE\r\n",
        "and, or, not, >, <, ==, >=, <=, !=\r\n",
        "\r\n",
        "Jerarquia:\r\n",
        "1. ()\r\n",
        "2. **\r\n",
        "3. *, /, %, not\r\n",
        "4. +, -, and\r\n",
        "5. >, <, ==, >=, <=, !=, or\r\n",
        "\r\n",
        "\r\n",
        "and: si ambas expresiones tienen el valor True (cierto) da como resultado True\r\n",
        "or: con que mínimo una expresion tenga el valor True (cierto) da como resultado True\r\n",
        "not: cambia el valor de True (cierto) a False (falso) y viceversa \r\n",
        "'''\r\n",
        "\r\n",
        "a=1\r\n",
        "b=2\r\n",
        "c=3\r\n",
        "\r\n",
        "D=(a<c) and (b>a)\r\n",
        "print (D)\r\n",
        "\r\n",
        "E=(a>c) and (b>a)\r\n",
        "print (E)\r\n",
        "\r\n",
        "F=(a>10) or (b>19)\r\n",
        "print (F)\r\n",
        "\r\n",
        "#Diferente de...\r\n",
        "q=4\r\n",
        "Q= q!=c \r\n",
        "print (Q)\r\n",
        "\r\n",
        "#Igual que..\r\n",
        "\r\n",
        "w=7\r\n",
        "W= w==5\r\n",
        "print (W)"
      ],
      "execution_count": 29,
      "outputs": [
        {
          "output_type": "stream",
          "text": [
            "True\n",
            "False\n",
            "False\n",
            "True\n",
            "False\n"
          ],
          "name": "stdout"
        }
      ]
    }
  ]
}